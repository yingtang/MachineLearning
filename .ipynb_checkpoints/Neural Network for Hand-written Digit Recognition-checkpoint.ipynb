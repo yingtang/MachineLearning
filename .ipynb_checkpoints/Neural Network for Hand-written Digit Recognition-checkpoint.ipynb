{
 "cells": [
  {
   "cell_type": "markdown",
   "metadata": {},
   "source": [
    "We here follow Andrew Ng's neural network lecture notes on Cousera with the goal to succesfully recognize hand-written digit from 0 - 9. \n",
    "\n",
    "The basic formula for the NN is as follows:\n",
    "\n",
    "$J(\\Theta)$\n",
    "\n",
    "We start from three-layer neural network, and might extend to four layers to compare the accuracy. "
   ]
  },
  {
   "cell_type": "code",
   "execution_count": null,
   "metadata": {
    "collapsed": true
   },
   "outputs": [],
   "source": []
  }
 ],
 "metadata": {
  "kernelspec": {
   "display_name": "Python 2",
   "language": "python",
   "name": "python2"
  },
  "language_info": {
   "codemirror_mode": {
    "name": "ipython",
    "version": 2
   },
   "file_extension": ".py",
   "mimetype": "text/x-python",
   "name": "python",
   "nbconvert_exporter": "python",
   "pygments_lexer": "ipython2",
   "version": "2.7.10"
  }
 },
 "nbformat": 4,
 "nbformat_minor": 0
}
