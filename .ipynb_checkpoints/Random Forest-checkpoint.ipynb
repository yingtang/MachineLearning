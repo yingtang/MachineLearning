{
 "cells": [
  {
   "cell_type": "markdown",
   "metadata": {},
   "source": [
    "As many suggested online, here I use __Random Forest__ method from _sklearn.ensemble_ package to do a quick study of the data. "
   ]
  },
  {
   "cell_type": "code",
   "execution_count": 10,
   "metadata": {
    "collapsed": false
   },
   "outputs": [
    {
     "name": "stdout",
     "output_type": "stream",
     "text": [
      "(99, 785)\n",
      "[ 1.  0.  1.  4.  0.  0.  7.  3.  5.  3.]\n"
     ]
    }
   ],
   "source": [
    "#import necessary packages \n",
    "import numpy as np\n",
    "from sklearn.ensemble import RandomForestClassifier\n",
    "\n",
    "#import training data, skip the header\n",
    "dataset = np.genfromtxt(open('train1.csv','r'), skip_header=1, delimiter=',', dtype='f8')\n",
    "print type(dataset)\n",
    "target = dataset[:,0]\n",
    "print type(target)\n",
    "\n"
   ]
  },
  {
   "cell_type": "code",
   "execution_count": null,
   "metadata": {
    "collapsed": true
   },
   "outputs": [],
   "source": []
  }
 ],
 "metadata": {
  "kernelspec": {
   "display_name": "Python 2",
   "language": "python",
   "name": "python2"
  },
  "language_info": {
   "codemirror_mode": {
    "name": "ipython",
    "version": 2
   },
   "file_extension": ".py",
   "mimetype": "text/x-python",
   "name": "python",
   "nbconvert_exporter": "python",
   "pygments_lexer": "ipython2",
   "version": "2.7.10"
  }
 },
 "nbformat": 4,
 "nbformat_minor": 0
}
