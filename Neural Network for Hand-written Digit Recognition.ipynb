{
 "cells": [
  {
   "cell_type": "markdown",
   "metadata": {},
   "source": [
    "We here follow Andrew Ng's neural network lecture notes on Cousera with the goal to succesfully recognize hand-written digit from 0 - 9 by using ***logistic regression*** and neural ***network algorithm***. \n",
    "\n",
    "The cost function formula for the NN is as follows:\n",
    "\n",
    "\\begin{equation}\n",
    "J(\\Theta) = - \\frac{1}{m}[\\sum_{i=1}^m \\sum_{k=1}^K y_k^{(i)}log(h_{\\Theta}(x^{(i)}))_k + (1- y_k^{(i)})log(1-h_{\\Theta}(x^{(i)}))_k] + \\frac{\\lambda}{2m} \\sum_{l=1}^{L-1}\\sum_{i=1}^{s_l}\\sum_{j=1}^{s_{l+1}}(\\Theta_{ji}^{(l)})^2\n",
    "\\end{equation}\n",
    "\n",
    "$m$ is the number of observations \n",
    "$K$ is the number of classifications. Since we want to recognize digits from $0-9$, there are total ten classes. $K=10$.\n",
    "$L$ is the number of layers. We start from three-layer neural network ($L=3$), and might extend to four layers to compare the accuracy.\n",
    "$s_l$ and $s_{l+1}$ are number of features in layer $l$ and $l+1$. \n",
    "\n",
    "Our goal is to minizie cost function $J(\\Theta)$ and get classification coefficients $\\Theta$ which can predict correct classification of digits. \n",
    "\n",
    "We use the __forward propagation__ to calculate the estimated results, and use the __backward propagation__ to update parameters. \n",
    "\n"
   ]
  },
  {
   "cell_type": "code",
   "execution_count": null,
   "metadata": {
    "collapsed": true
   },
   "outputs": [],
   "source": []
  }
 ],
 "metadata": {
  "kernelspec": {
   "display_name": "Python 2",
   "language": "python",
   "name": "python2"
  },
  "language_info": {
   "codemirror_mode": {
    "name": "ipython",
    "version": 2
   },
   "file_extension": ".py",
   "mimetype": "text/x-python",
   "name": "python",
   "nbconvert_exporter": "python",
   "pygments_lexer": "ipython2",
   "version": "2.7.10"
  }
 },
 "nbformat": 4,
 "nbformat_minor": 0
}
