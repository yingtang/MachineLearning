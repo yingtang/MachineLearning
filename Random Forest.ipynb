{
 "cells": [
  {
   "cell_type": "markdown",
   "metadata": {},
   "source": [
    "As many suggested online, here I use __Random Forest__ method from _sklearn.ensemble_ package to do a quick study of the data. \n",
    "\n",
    "RandomeForestClassifier:\n",
    "input: \n",
    "n_esitmators: number of trees in the forest\n",
    "\n"
   ]
  },
  {
   "cell_type": "code",
   "execution_count": 11,
   "metadata": {
    "collapsed": false
   },
   "outputs": [
    {
     "name": "stdout",
     "output_type": "stream",
     "text": [
      "<type 'numpy.ndarray'>\n",
      "<type 'numpy.ndarray'>\n"
     ]
    }
   ],
   "source": [
    "#import necessary packages \n",
    "import numpy as np\n",
    "from sklearn.ensemble import RandomForestClassifier\n",
    "\n",
    "#import training data, skip the header\n",
    "dataset = np.genfromtxt(open('train1.csv','r'), skip_header=1, delimiter=',', dtype='f8')\n",
    "\n",
    "target = dataset[:,0] #the first column is the true digit\n",
    "train = dataset[:,1:] #the rest columns are the pixels of the digit\n",
    "test = genfromtxt(open('test1.csv','r'), skip_header=1, delimiter=',', dtype='f8')\n",
    "\n",
    "#train the data by random_forest algorithm \n",
    "est = RandomForestClassifier(n_estimators=100)\n"
   ]
  },
  {
   "cell_type": "code",
   "execution_count": null,
   "metadata": {
    "collapsed": true
   },
   "outputs": [],
   "source": []
  }
 ],
 "metadata": {
  "kernelspec": {
   "display_name": "Python 2",
   "language": "python",
   "name": "python2"
  },
  "language_info": {
   "codemirror_mode": {
    "name": "ipython",
    "version": 2
   },
   "file_extension": ".py",
   "mimetype": "text/x-python",
   "name": "python",
   "nbconvert_exporter": "python",
   "pygments_lexer": "ipython2",
   "version": "2.7.10"
  }
 },
 "nbformat": 4,
 "nbformat_minor": 0
}
